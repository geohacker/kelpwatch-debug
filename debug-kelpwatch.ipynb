{
 "cells": [
  {
   "cell_type": "code",
   "execution_count": 5,
   "id": "f7e7b028-eaf4-4aa5-9055-6c17afb03757",
   "metadata": {},
   "outputs": [],
   "source": [
    "import sys\n",
    "# sys.path.append('/Users/geohacker/utils/env/kelpwatch/lib/python3.9/site-packages')\n",
    "import geopandas as gpd\n",
    "from lonboard import Map, PolygonLayer\n",
    "from geoarrow.rust.core import read_parquet\n",
    "from matplotlib.colors import LogNorm\n",
    "from palettable.colorbrewer.sequential import Oranges_9, Reds_9\n",
    "from lonboard.colormap import apply_continuous_cmap\n",
    "from lonboard.basemap import CartoBasemap\n",
    "import ipywidgets as widgets\n",
    "import pandas as pd\n",
    "from IPython.display import display\n",
    "from lonboard.basemap import CartoBasemap\n",
    "from geoarrow.rust.core import from_geopandas\n",
    "import requests"
   ]
  },
  {
   "cell_type": "code",
   "execution_count": 6,
   "id": "7d3a92e2-6563-4616-8c10-afde67112799",
   "metadata": {},
   "outputs": [],
   "source": [
    "def generate_date_strings(start_year, end_year):\n",
    "    date_range = pd.date_range(start=f\"{start_year}-01-01\", end=f\"{end_year}-04-01\", freq='MS')\n",
    "    date_strings = [date.strftime(\"%Y_%m\") for date in date_range if date.month in [1, 2, 3, 4]]\n",
    "    return date_strings\n",
    "\n",
    "dates = generate_date_strings(1984, 2023)"
   ]
  },
  {
   "cell_type": "code",
   "execution_count": 13,
   "id": "23122e7b-2aab-4cf8-99b3-64911cbf47f5",
   "metadata": {},
   "outputs": [
    {
     "name": "stdout",
     "output_type": "stream",
     "text": [
      "Fetching 00\n",
      "Fetching 03\n",
      "Fetching 05\n",
      "Fetching 06\n",
      "Fetching 07\n",
      "Fetching 09\n"
     ]
    }
   ],
   "source": [
    "# Load datasets\n",
    "\n",
    "base_url = \"https://kelpwatch-data-staging.s3.us-west-1.amazonaws.com/debug\"\n",
    "pixels_url = f\"{base_url}/california.parquet\"\n",
    "hex_url = f\"\"\n",
    "\n",
    "with requests.get(pixels_url, stream=True) as r:\n",
    "    r.raise_for_status()\n",
    "    with open('california.parquet', 'wb') as f:\n",
    "        for chunk in r.iter_content(chunk_size=8192):\n",
    "            f.write(chunk)\n",
    "\n",
    "pixels = read_parquet(\"california.parquet\")\n",
    "# pixels = read_parquet(f\"{data_url}/california.parquet\")\n",
    "pixels_gdf = pixels.to_geopandas()\n",
    "\n",
    "hex = {}\n",
    "for res in ['00', '03', '05', '06', '07', '09']:\n",
    "    # hex_path = f\"{base_url}/california_h3_{res}.geojson\"\n",
    "    # print(f\"Fetching {res}\")\n",
    "    hex_url = f\"{base_url}/california_h3_{res}.parquet\"\n",
    "    # hex[res] = gpd.read_file(hex_path, driver='GeoJSONSeq')\n",
    "    with requests.get(hex_url, stream=True) as r:\n",
    "        r.raise_for_status()\n",
    "        with open(f\"california_{res}.parquet\", 'wb') as f:\n",
    "            for chunk in r.iter_content(chunk_size=8192):\n",
    "                f.write(chunk)\n",
    "    hex[res] = read_parquet(f\"california_{res}.parquet\").to_geopandas()\n",
    "    \n"
   ]
  },
  {
   "cell_type": "code",
   "execution_count": 14,
   "id": "8cafb578-f45c-458c-b6a8-1004702903a1",
   "metadata": {},
   "outputs": [],
   "source": [
    "m = Map(layers=[], basemap_style=CartoBasemap.Positron)\n",
    "m._height = 1500"
   ]
  },
  {
   "cell_type": "code",
   "execution_count": 33,
   "id": "d2c4ed66-dead-481a-af26-3dfcab28d336",
   "metadata": {
    "scrolled": true
   },
   "outputs": [
    {
     "data": {
      "application/vnd.jupyter.widget-view+json": {
       "model_id": "d990ffc6debf4498afcac550937720d7",
       "version_major": 2,
       "version_minor": 0
      },
      "text/plain": [
       "Dropdown(description='YYYY_QQ:', options=('1984_01', '1984_02', '1984_03', '1984_04', '1985_01', '1985_02', '1…"
      ]
     },
     "metadata": {},
     "output_type": "display_data"
    },
    {
     "data": {
      "application/vnd.jupyter.widget-view+json": {
       "model_id": "8acd8394807742ebabbf614e3e9b16e2",
       "version_major": 2,
       "version_minor": 0
      },
      "text/plain": [
       "Dropdown(description='HEX', index=1, options=('00', '03', '05', '06', '07', '09'), value='03')"
      ]
     },
     "metadata": {},
     "output_type": "display_data"
    },
    {
     "name": "stderr",
     "output_type": "stream",
     "text": [
      "/opt/homebrew/Caskroom/miniforge/base/lib/python3.9/site-packages/lonboard/_geoarrow/ops/reproject.py:23: UserWarning: No CRS exists on data. If no data is shown on the map, double check that your CRS is WGS84.\n",
      "  warn(\n",
      "/opt/homebrew/Caskroom/miniforge/base/lib/python3.9/site-packages/lonboard/_geoarrow/ops/reproject.py:23: UserWarning: No CRS exists on data. If no data is shown on the map, double check that your CRS is WGS84.\n",
      "  warn(\n"
     ]
    }
   ],
   "source": [
    "year_dropdown = widgets.Dropdown(\n",
    "    options=dates,\n",
    "    value=dates[0],\n",
    "    description='YYYY_QQ:',\n",
    "    disabled=False,\n",
    ")\n",
    "\n",
    "hex_dropdown = widgets.Dropdown(\n",
    "    options=['00', '03', '05', '06', '07', '09'],\n",
    "    value='03',\n",
    "    description='HEX',\n",
    "    disabled=False\n",
    ")\n",
    "\n",
    "year_qq = dates[0]\n",
    "res = '09'\n",
    "pixels_layer = None\n",
    "\n",
    "def update_map(year_qq = '1984_01', res = '03'):\n",
    "\n",
    "    normalizer = LogNorm()\n",
    "\n",
    "    # setup pixels data and layer\n",
    "    this_pixels_gdf = pixels_gdf[pixels_gdf[year_qq] >= 0]\n",
    "    min = this_pixels_gdf[year_qq].min()\n",
    "    max = this_pixels_gdf[year_qq].max()\n",
    "    normalized_values = normalizer(this_pixels_gdf[year_qq])\n",
    "    colors = apply_continuous_cmap(normalized_values, Oranges_9)\n",
    "    pixels_arrow = from_geopandas(this_pixels_gdf.loc[:, [year_qq, 'geometry']])\n",
    "    pixels_layer = PolygonLayer(\n",
    "        table=pixels_arrow,\n",
    "        get_fill_color=colors\n",
    "    )\n",
    "\n",
    "    # setup hex data and layer\n",
    "    this_hex_gdf = hex[res][hex[res][year_qq] >= 0]\n",
    "    hex_normalized_values = normalizer(this_hex_gdf[year_qq])\n",
    "    hex_colors = apply_continuous_cmap(this_hex_gdf[year_qq], Reds_9)\n",
    "    hex_layer = PolygonLayer.from_geopandas(\n",
    "        this_hex_gdf.loc[:, [year_qq, 'geometry']],\n",
    "        get_fill_color=hex_colors,\n",
    "        opacity=0.2\n",
    "    )\n",
    "\n",
    "\n",
    "    m.layers = [hex_layer, pixels_layer]\n",
    "    \n",
    "def on_year_change(change):\n",
    "    if change['type'] == 'change' and change['name'] == 'value':\n",
    "        print(f\"Selected date: {change['new']}\")\n",
    "        year_qq = change['new']\n",
    "        update_map(year_qq, hex_dropdown.value)\n",
    "\n",
    "\n",
    "hex_gdf = None\n",
    "def on_hex_change(change):\n",
    "    if change['type'] == 'change' and change['name'] == 'value':\n",
    "        print(f\"Selected hex: {change['new']}\")\n",
    "        res = change['new']\n",
    "        update_map(year_dropdown.value, res)\n",
    "    \n",
    "hex_dropdown.observe(on_hex_change)\n",
    "year_dropdown.observe(on_year_change)\n",
    "\n",
    "display(year_dropdown)\n",
    "display(hex_dropdown)\n",
    "\n",
    "update_map()"
   ]
  },
  {
   "cell_type": "code",
   "execution_count": 28,
   "id": "7350f40d-994d-46d0-a27b-4d0122ced08e",
   "metadata": {},
   "outputs": [
    {
     "data": {
      "application/vnd.jupyter.widget-view+json": {
       "model_id": "86dc173d742844ed9e9ff4c86509aeff",
       "version_major": 2,
       "version_minor": 0
      },
      "text/plain": [
       "Map(basemap_style=<CartoBasemap.Positron: 'https://basemaps.cartocdn.com/gl/positron-gl-style/style.json'>, vi…"
      ]
     },
     "execution_count": 28,
     "metadata": {},
     "output_type": "execute_result"
    }
   ],
   "source": [
    "m"
   ]
  },
  {
   "cell_type": "code",
   "execution_count": null,
   "id": "b186837c-2481-48b5-9b59-378fae4853c6",
   "metadata": {},
   "outputs": [],
   "source": []
  },
  {
   "cell_type": "code",
   "execution_count": null,
   "id": "ba4efacc-41a8-4a8d-811d-34db34e89c39",
   "metadata": {},
   "outputs": [],
   "source": []
  }
 ],
 "metadata": {
  "kernelspec": {
   "display_name": "Python 3 (ipykernel)",
   "language": "python",
   "name": "python3"
  },
  "language_info": {
   "codemirror_mode": {
    "name": "ipython",
    "version": 3
   },
   "file_extension": ".py",
   "mimetype": "text/x-python",
   "name": "python",
   "nbconvert_exporter": "python",
   "pygments_lexer": "ipython3",
   "version": "3.9.13"
  }
 },
 "nbformat": 4,
 "nbformat_minor": 5
}
